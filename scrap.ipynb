{
 "cells": [
  {
   "cell_type": "code",
   "execution_count": 1,
   "metadata": {},
   "outputs": [],
   "source": [
    "import requests\n",
    "from bs4 import BeautifulSoup\n",
    "import pandas as pd\n",
    "from tqdm import tqdm\n",
    "import logging\n",
    "\n",
    "logging.basicConfig(filename='output.log', encoding='utf-8', level=logging.INFO)\n"
   ]
  },
  {
   "cell_type": "code",
   "execution_count": 2,
   "metadata": {},
   "outputs": [],
   "source": [
    "URL = 'http://www.ioerj.com.br/portal/modules/conteudoonline/busca_do.php?acao=busca'"
   ]
  },
  {
   "cell_type": "code",
   "execution_count": 3,
   "metadata": {},
   "outputs": [],
   "source": [
    "string = \"\"\"\n",
    "    <option selected value=\"12\">Parte I (Poder Executivo)</option>\n",
    "    <option  value=\"1\">Parte IA - (Ministério Público)</option>\n",
    "    <option  value=\"2\">Parte IB - (Tribunal de Contas)</option>\n",
    "    <option  value=\"13\">Parte I DPGE - (Defensoria Pública Geral do Estado)</option>\n",
    "    <option  value=\"20\">Parte I JC (Junta Comercial)</option>\n",
    "    <option  value=\"3\">Parte II (Poder Legislativo)</option>\n",
    "    <option  value=\"6\">Parte III - E (Poder Judiciário Estadual)</option>\n",
    "    <option  value=\"7\">Parte III - F (Justiça Federal)</option>\n",
    "    <option  value=\"10\">Parte III - F (Justiça do Trabalho)</option>\n",
    "    <option  value=\"11\">Parte III - F (Justiça Eleitoral)</option>\n",
    "    <option  value=\"5\">Parte IV (Municipalidades)</option>\n",
    "    <option  value=\"4\">Parte V (Publicações a Pedido)</option>\n",
    "    <option  value=\"18\">DO Campos (Poder Executivo)</option>\n",
    "\"\"\"\n",
    "list_jornals = []\n",
    "soup = BeautifulSoup(string)\n",
    "for option in soup.findAll('option'):\n",
    "    list_jornals.append(option['value'])\n",
    "    \n",
    "list_meses = [i for i in range(1,13)]\n",
    "list_anos  = [i for i in range(2018, 2019)]"
   ]
  },
  {
   "cell_type": "code",
   "execution_count": 4,
   "metadata": {},
   "outputs": [],
   "source": [
    "def resultados_busca(busca):\n",
    "    lista_resultados = []\n",
    "    lista_erros = []\n",
    "\n",
    "    for jornal in tqdm(list_jornals):\n",
    "        for ano in list_anos:\n",
    "            for mes in list_meses:\n",
    "                logging.info(f\"{jornal}, {mes}, {ano}\")\n",
    "                data = {\n",
    "                    \"textobusca\"         : busca,\n",
    "                    \"busca[jornal]\"      : jornal,\n",
    "                    \"datapublicacao[dia]\": \"\",\n",
    "                    \"datapublicacao[mes]\": mes,\n",
    "                    \"datapublicacao[ano]\": ano,\n",
    "                    \"tipobusca\"          : \"texto\",\n",
    "                    \"buscaordem\"         : \"datapublicacao desc\",\n",
    "                    \"buscar\"             : \"Buscar\"\n",
    "                }\n",
    "\n",
    "\n",
    "                response = requests.post(URL, data)\n",
    "                soup = BeautifulSoup(response.content)\n",
    "                soup = soup.find(id='xo-content')\n",
    "                \n",
    "                conteudo = soup.find('div', class_='conteudo_b')\n",
    "                try:\n",
    "                    pags = int(conteudo.findAll('b')[1].text.strip())\n",
    "                    logging.info(f'Registros encontrados: {pags}')\n",
    "                except:\n",
    "                    lista_erros.append([jornal, mes, ano])\n",
    "                \n",
    "                soup = soup.findAll('table')[1]\n",
    "                \n",
    "                lista_trs = soup.findAll('tr')\n",
    "                len_trs = len(lista_trs)\n",
    "                for i in range(0, len_trs - 3, 3):\n",
    "                    tds        = lista_trs[i].findAll('td')\n",
    "                    link       = 'http://www.ioerj.com.br' + tds[0].find('a')['href']\n",
    "                    titulo     = tds[1].text.strip()\n",
    "                    data       = titulo.split()[0]\n",
    "                    pag        = titulo.split()[2]\n",
    "                    materia_id = titulo.split()[6]\n",
    "                    \n",
    "                    tds        = lista_trs[i + 1].findAll('td')\n",
    "                    tipo       = tds[1].text.strip().replace('Tipo: ', '')\n",
    "                    \n",
    "                    tds        = lista_trs[i + 2].findAll('td')\n",
    "                    resumo     = tds[0].text.strip()\n",
    "                    \n",
    "                    dict_result = {\n",
    "                        'link'      : link,\n",
    "                        'data'      : data,\n",
    "                        'pag'       : pag,\n",
    "                        'materia_id': materia_id,\n",
    "                        'jornal'    : jornal,\n",
    "                        'tipo'      : tipo,\n",
    "                        'resumo'    : resumo,\n",
    "                        'ano'       : ano,\n",
    "                        'mes'       : mes\n",
    "                    }\n",
    "                    \n",
    "                    lista_resultados.append(dict_result)\n",
    "    return pd.DataFrame(lista_resultados)"
   ]
  },
  {
   "cell_type": "code",
   "execution_count": 5,
   "metadata": {},
   "outputs": [
    {
     "name": "stderr",
     "output_type": "stream",
     "text": [
      "100%|██████████| 13/13 [01:17<00:00,  5.99s/it]\n"
     ]
    }
   ],
   "source": [
    "df = resultados_busca('cedae')"
   ]
  },
  {
   "cell_type": "code",
   "execution_count": null,
   "metadata": {},
   "outputs": [],
   "source": []
  }
 ],
 "metadata": {
  "kernelspec": {
   "display_name": ".ioerj",
   "language": "python",
   "name": "python3"
  },
  "language_info": {
   "codemirror_mode": {
    "name": "ipython",
    "version": 3
   },
   "file_extension": ".py",
   "mimetype": "text/x-python",
   "name": "python",
   "nbconvert_exporter": "python",
   "pygments_lexer": "ipython3",
   "version": "3.10.8"
  },
  "orig_nbformat": 4,
  "vscode": {
   "interpreter": {
    "hash": "c29a275d181ae4efb72b97f8810b40a5f3fc9e9f7664edee3323b63d40ffb8ca"
   }
  }
 },
 "nbformat": 4,
 "nbformat_minor": 2
}
